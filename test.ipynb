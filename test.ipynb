{
 "cells": [
  {
   "cell_type": "code",
   "execution_count": 2,
   "metadata": {},
   "outputs": [
    {
     "name": "stdout",
     "output_type": "stream",
     "text": [
      "The size of the training data is: 25000\n"
     ]
    }
   ],
   "source": [
    "import torch\n",
    "import torch.nn as nn\n",
    "from torch.utils.data import Dataset, DataLoader\n",
    "from torchtext.data.utils import get_tokenizer\n",
    "from torchtext.vocab import build_vocab_from_iterator\n",
    "from torch.nn.utils.rnn import pad_sequence\n",
    "import torch.nn.functional as F\n",
    "import pandas as pd\n",
    "import torch.optim as optim\n",
    "\n",
    "class CustomDataset(Dataset):\n",
    "    def __init__(self, csv_file, transform=None):\n",
    "        self.data = pd.read_csv(csv_file)  # Read the CSV file into a pandas DataFrame\n",
    "        self.transform = transform\n",
    "\n",
    "    def __len__(self):\n",
    "        return len(self.data)\n",
    "\n",
    "    def __getitem__(self, index):\n",
    "        sample = self.data.iloc[index, 0]  # Assuming the features are in columns 1 onwards\n",
    "        label = self.data.iloc[index,1]  # Assuming the label is in the first column\n",
    "\n",
    "        # If a transform is provided, apply it to the sample\n",
    "        if self.transform:\n",
    "            sample = self.transform(sample)\n",
    "\n",
    "        return sample, torch.tensor(label, dtype=torch.long)\n",
    "\n",
    "\n",
    "# Assuming 'data.csv' is the name of your CSV file\n",
    "train_dataset = CustomDataset('D:\\\\Python_Project\\\\Deep_Learning_Torch\\\\IMDB_data\\\\Train\\\\train.csv')\n",
    "\n",
    "tokenizer = get_tokenizer('spacy', language='en_core_web_sm')  # Using Spacy tokenizer\n",
    "\n",
    "def yield_tokens(data_iter):\n",
    "    for text, _ in data_iter:\n",
    "        yield tokenizer(text)\n",
    "\n",
    "vocab = build_vocab_from_iterator(yield_tokens(train_dataset), specials=[\"<unk>\", \"<pad>\", \"<bos>\", \"<eos>\"])\n",
    "vocab.set_default_index(vocab[\"<unk>\"])  # Set default index for unknown tokens\n",
    "\n",
    "def collate_batch(batch):\n",
    "    label_list, text_list, = [], []\n",
    "    for (_text, _label) in batch:\n",
    "        label_list.append(_label)\n",
    "        processed_text = torch.tensor([vocab[token] for token in tokenizer(_text)], dtype=torch.int64)\n",
    "        text_list.append(processed_text)\n",
    "    return pad_sequence(text_list, padding_value=vocab[\"<pad>\"]).T, torch.tensor(label_list, dtype=torch.int64)\n",
    "\n",
    "\n",
    "dataloader = DataLoader(train_dataset, batch_size=32, shuffle=True, collate_fn=collate_batch)\n",
    "print(f'The size of the training data is: {len(train_dataset)}')\n"
   ]
  }
 ],
 "metadata": {
  "kernelspec": {
   "display_name": "Python 3",
   "language": "python",
   "name": "python3"
  },
  "language_info": {
   "codemirror_mode": {
    "name": "ipython",
    "version": 3
   },
   "file_extension": ".py",
   "mimetype": "text/x-python",
   "name": "python",
   "nbconvert_exporter": "python",
   "pygments_lexer": "ipython3",
   "version": "3.11.9"
  }
 },
 "nbformat": 4,
 "nbformat_minor": 2
}
